{
 "cells": [
  {
   "cell_type": "markdown",
   "metadata": {},
   "source": [
    "# Tanks in Series"
   ]
  },
  {
   "cell_type": "code",
   "execution_count": null,
   "metadata": {},
   "outputs": [],
   "source": [
    "import numpy as np\n",
    "import matplotlib\n",
    "import matplotlib.pyplot as plt\n",
    "from matplotlib import style\n",
    "from scipy.integrate import odeint\n",
    "\n",
    "from IPython.display import display, Math\n",
    "\n",
    "%config InlineBackend.figure_format = 'retina'\n",
    "\n",
    "style.use(\"default\")"
   ]
  },
  {
   "cell_type": "code",
   "execution_count": null,
   "metadata": {},
   "outputs": [],
   "source": [
    "from matplotlib.backends.backend_pdf import PdfPages\n",
    "pp = PdfPages('Tanks_in_series.pdf')"
   ]
  },
  {
   "cell_type": "markdown",
   "metadata": {},
   "source": [
    "# Non-interacting tanks"
   ]
  },
  {
   "cell_type": "code",
   "execution_count": null,
   "metadata": {},
   "outputs": [],
   "source": [
    "# Non interacting system\n",
    "def model(SV, t, obj):\n",
    "    [h1, h2] = SV\n",
    "    \n",
    "    R1= obj.R1\n",
    "    R2 = obj.R2\n",
    "    A1 = obj.A1\n",
    "    A2 = obj.A2\n",
    "    qi = obj.qi\n",
    "    dh1bydt = (qi-h1/R1)/A1\n",
    "    dh2bydt = (h1/R1-h2/R2)/A2\n",
    "    \n",
    "    return [dh1bydt, dh2bydt]\n",
    "    "
   ]
  },
  {
   "cell_type": "code",
   "execution_count": null,
   "metadata": {},
   "outputs": [],
   "source": [
    "class non_inter_second_order_system:\n",
    "    def __init__(self):\n",
    "        \n",
    "        self.A1 = 1.2\n",
    "        self.A2 = 1.2\n",
    "        self.qi = 1.1\n",
    "        self.qis =1.0\n",
    "    \n",
    "        self.h1s = 1.1\n",
    "        self.h2s = 1.05\n",
    "        \n",
    "        self.R1 =self.h1s/self.qis\n",
    "        self.R2 =self.h2s/self.qis\n",
    "        \n",
    "        self.tmax = 40\n",
    "        self.nsteps = 10000\n",
    "    \n",
    "    def solve(self):\n",
    "        \n",
    "        SV0 = [self.h1s, self.h2s]\n",
    "        time = np.linspace(0, self.tmax, self.nsteps)\n",
    "        solution = odeint(\n",
    "                            model,\n",
    "                            SV0,\n",
    "                            time,\n",
    "                            args = (self,)\n",
    "        )\n",
    "        self.solution = solution\n",
    "        self.h1solution = solution[:,0]\n",
    "        self.h2solution = solution[:,1]\n",
    "        self.q1solution = solution[:,0]/self.R1\n",
    "        self.q2solution = solution[:,1]/self.R2\n",
    "        self.time = time"
   ]
  },
  {
   "cell_type": "code",
   "execution_count": null,
   "metadata": {},
   "outputs": [],
   "source": [
    "sos1 = non_inter_second_order_system()\n",
    "sos1.tmax = 10\n",
    "sos1.solve()"
   ]
  },
  {
   "cell_type": "code",
   "execution_count": null,
   "metadata": {},
   "outputs": [],
   "source": [
    "#plt.plot(sos1.time, sos1.h1solution, 'b', label = r'$\\zeta$ = %.2f' %(sos1.zeta))\n",
    "plt.plot(sos1.time, sos1.h1solution, 'b', label = r'$h_{1}(t)$')\n",
    "plt.plot(sos1.time, sos1.h2solution, 'k', label = r'$h_{2}(t)$')\n",
    "plt.plot(sos1.time, sos1.q1solution, 'r', label = r'$q_{1}(t)$')\n",
    "plt.plot(sos1.time, sos1.q2solution, 'g', label = r'$q_{2}(t)$')\n",
    "plt.xlabel(\"Time (hours)\", fontsize=12)\n",
    "plt.ylabel(\"Outputs\", fontsize=12)\n",
    "plt.legend(loc='best',title='Variables')\n",
    "plt.xlim([0, sos1.tmax])\n",
    "plt.ylim([1,1.25])\n",
    "plt.title( \n",
    "           \"Two non-interacting tanks in series; \" + \n",
    "            r\"$A_1 = A_2 = $ %.1f $m^2$\" %(sos1.A1) +\n",
    "            \"\\n\"+\n",
    "            r\"$q_{i,s} =$ %.1f $m^3$; $h_{1,s} =$ %.2f m; $h_{2,s} =$ %.2f m; $q_{i} =$ %.1f $m^3$ \" \n",
    "            %(sos1.qis,sos1.h1s,sos1.h2s, sos1.qi),\n",
    "            fontsize = 12\n",
    "          );\n",
    "plt.savefig(\"non_interacting_tanks.pdf\")\n",
    "pp.savefig()\n",
    "#plt.savefig(\"2nd_order_response.png\", dpi=4000)"
   ]
  },
  {
   "cell_type": "markdown",
   "metadata": {},
   "source": [
    "# Interacting Tanks"
   ]
  },
  {
   "cell_type": "code",
   "execution_count": null,
   "metadata": {},
   "outputs": [],
   "source": [
    "# Interacting system\n",
    "def model2(SV, t, obj):\n",
    "    [h1, h2] = SV\n",
    "    \n",
    "    R1= obj.R1\n",
    "    R2 = obj.R2\n",
    "    A1 = obj.A1\n",
    "    A2 = obj.A2\n",
    "    qi = obj.qi\n",
    "    dh1bydt = (qi-(h1-h2)/R1)/A1\n",
    "    dh2bydt = ((h1-h2)/R1-h2/R2)/A2\n",
    "    \n",
    "    return [dh1bydt, dh2bydt]"
   ]
  },
  {
   "cell_type": "code",
   "execution_count": null,
   "metadata": {},
   "outputs": [],
   "source": [
    "class inter_second_order_system:\n",
    "    def __init__(self):\n",
    "        \n",
    "        self.A1 = 1.2\n",
    "        self.A2 = 1.2\n",
    "        self.qi = 1.1\n",
    "        self.qis =1.0\n",
    "    \n",
    "        self.h1s = 1.1\n",
    "        self.h2s = 1.05\n",
    "        \n",
    "        self.R1 =self.h1s/self.qis\n",
    "        self.R2 =self.h2s/self.qis\n",
    "        \n",
    "        self.tmax = 40\n",
    "        self.nsteps = 10000\n",
    "    \n",
    "    def solve(self):\n",
    "        \n",
    "        SV0 = [self.h1s, self.h2s]\n",
    "        time = np.linspace(0, self.tmax, self.nsteps)\n",
    "        solution = odeint(\n",
    "                            model2,\n",
    "                            SV0,\n",
    "                            time,\n",
    "                            args = (self,)\n",
    "        )\n",
    "        self.solution = solution\n",
    "        self.h1solution = solution[:,0]\n",
    "        self.h2solution = solution[:,1]\n",
    "        self.q1solution = (solution[:,0]-solution[:,1])/self.R1\n",
    "        self.q2solution = solution[:,1]/self.R2\n",
    "        self.time = time"
   ]
  },
  {
   "cell_type": "code",
   "execution_count": null,
   "metadata": {},
   "outputs": [],
   "source": [
    "sos2 = inter_second_order_system()\n",
    "sos2.tmax = 12\n",
    "sos2.solve()"
   ]
  },
  {
   "cell_type": "code",
   "execution_count": null,
   "metadata": {},
   "outputs": [],
   "source": [
    "#plt.plot(sos1.time, sos1.h1solution, 'b', label = r'$\\zeta$ = %.2f' %(sos1.zeta))\n",
    "plt.plot(sos2.time, sos2.h1solution, 'b', label = r'$h_{1}(t)$')\n",
    "plt.plot(sos2.time, sos2.h2solution, 'k', label = r'$h_{2}(t)$')\n",
    "plt.plot(sos2.time, sos2.q1solution, 'r', label = r'$q_{1}(t)$')\n",
    "plt.plot(sos2.time, sos2.q2solution, 'g', label = r'$q_{2}(t)$')\n",
    "plt.xlabel(\"Time (hours)\", fontsize=12)\n",
    "plt.ylabel(\"Outputs\", fontsize=12)\n",
    "plt.legend(loc='best',title='Variables')\n",
    "plt.xlim([0, sos2.tmax])\n",
    "plt.ylim([0,2.5])\n",
    "plt.title( \n",
    "           \"Two Interacting tanks in series; \" + \n",
    "            r\"$A_1 = A_2 = $ %.1f $m^2$\" %(sos2.A1) +\n",
    "            \"\\n\"+\n",
    "            r\"$q_{i,s} =$ %.1f $m^3$; $h_{1,s} =$ %.2f m; $h_{2,s} =$ %.2f m; $q_{i} =$ %.1f $m^3$ \" \n",
    "            %(sos2.qis,sos2.h1s,sos2.h2s, sos2.qi),\n",
    "            fontsize = 12\n",
    "          );\n",
    "plt.savefig(\"interacting_tanks.pdf\")\n",
    "pp.savefig()\n",
    "pp.close()\n",
    "#plt.savefig(\"2nd_order_response.png\", dpi=4000)\n"
   ]
  }
 ],
 "metadata": {
  "kernelspec": {
   "display_name": "Python 3",
   "language": "python",
   "name": "python3"
  },
  "language_info": {
   "codemirror_mode": {
    "name": "ipython",
    "version": 3
   },
   "file_extension": ".py",
   "mimetype": "text/x-python",
   "name": "python",
   "nbconvert_exporter": "python",
   "pygments_lexer": "ipython3",
   "version": "3.8.5"
  }
 },
 "nbformat": 4,
 "nbformat_minor": 4
}
