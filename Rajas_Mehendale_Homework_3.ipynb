{
 "cells": [
  {
   "cell_type": "markdown",
   "metadata": {},
   "source": [
    "# Frequency Response of 2nd Order System\n"
   ]
  },
  {
   "cell_type": "markdown",
   "metadata": {},
   "source": [
    "## Details"
   ]
  },
  {
   "cell_type": "markdown",
   "metadata": {},
   "source": [
    "\n",
    "Rajas Mehendale\n",
    "\n",
    "18CHE160\n",
    "\n",
    "CET 1703 - Chemical Process Control\n",
    "\n",
    "T.Y. B. Chem. Engg\n",
    "\n"
   ]
  },
  {
   "cell_type": "markdown",
   "metadata": {},
   "source": [
    "## Obtaining Equation"
   ]
  },
  {
   "cell_type": "markdown",
   "metadata": {},
   "source": [
    "\n",
    "For a second order system, the transfer function is:\n",
    "\n",
    "$$G(s) = \\frac{{K}_{P}}{ {\\tau }^{2}{s}^{2} + 2\\tau \\zeta s +1}$$\n",
    "\n",
    "Using s= $j \\omega$\n",
    "\n",
    "$$G(j \\omega) = \\frac{{K}_{P}}{ {\\tau }^{2}{j}^{2}{\\omega }^{2} + 2\\tau \\zeta (j \\omega) +1}$$\n",
    "\n",
    "Since ${j}^{2} = -1$\n",
    "\n",
    "$$G(j \\omega) = \\frac{{K}_{P}}{ -{\\tau }^{2}{\\omega }^{2} + 2\\tau \\zeta (j \\omega) +1}$$\n",
    "\n",
    "Rearranging the real and imaginary parts\n",
    "\n",
    "$$G(j \\omega) = \\frac{{K}_{P}}{ (1 -{\\tau }^{2}{\\omega }^{2}) + (2\\tau \\zeta \\omega )j}$$\n"
   ]
  },
  {
   "cell_type": "markdown",
   "metadata": {},
   "source": [
    "Multiplying with the complex conjugate\n",
    "\n",
    "$$G(j \\omega) = \\frac{{K}_{P}}{ (1 -{\\tau }^{2}{\\omega }^{2}) + (2\\tau \\zeta \\omega )j} * \\frac{(1 -{\\tau }^{2}{\\omega }^{2}) - (2\\tau \\zeta \\omega )j}{(1 -{\\tau }^{2}{\\omega }^{2}) - (2\\tau \\zeta \\omega )j}$$\n",
    "\n"
   ]
  },
  {
   "cell_type": "markdown",
   "metadata": {},
   "source": [
    "\n",
    "Let a = $(1 -{\\tau }^{2}{\\omega }^{2})$\n",
    "and b = $(-2\\tau \\zeta \\omega )$\n",
    "\n",
    "$$G(j \\omega) = \\frac{{K}_{P}}{ a - bj} * \\frac{a + bj}{a + bj}$$"
   ]
  },
  {
   "cell_type": "markdown",
   "metadata": {},
   "source": [
    "$$G(j \\omega) = K_P * (\\frac{a +bj}{ {a}^{2} + {b}^{2}})$$"
   ]
  },
  {
   "cell_type": "markdown",
   "metadata": {},
   "source": [
    "\n",
    "Amplitude is = $\\frac{K_P}{\\sqrt{({a}^{2}+ {b}^{2})}}$"
   ]
  },
  {
   "cell_type": "markdown",
   "metadata": {},
   "source": [
    "Phase angle is $\\phi = {tan}^{-1}(\\frac{b}{a})$"
   ]
  },
  {
   "cell_type": "markdown",
   "metadata": {},
   "source": [
    "## Plotting the Amplitude Response"
   ]
  },
  {
   "cell_type": "code",
   "execution_count": null,
   "metadata": {},
   "outputs": [],
   "source": [
    "import numpy as np\n",
    "import matplotlib\n",
    "import matplotlib.pyplot as plt\n",
    "from matplotlib import style\n",
    "from IPython.display import display\n",
    "\n",
    "%config InlineBackend.figure_format = 'svg'\n",
    "\n",
    "tau = 160.0/100.0\n",
    "def response(w,z):\n",
    "    Kp = 1.0\n",
    "    a = 1- (tau**2)*(w**2)\n",
    "    b = 2*tau*z*w\n",
    "    sol = Kp/np.sqrt(a**2+b**2)\n",
    "    sol1 = np.arctan(b/a)\n",
    "    return sol\n",
    "w = np.linspace(0.001,1000,100000)\n",
    "\n",
    "zeta = [0.1,1,4]\n",
    "plt.figure();\n",
    "plt.plot(np.log10(w), np.log10(response(w,zeta[0])), 'r', label = r\"$\\zeta$ = %.1f\" %(zeta[0]))\n",
    "plt.plot(np.log10(w), np.log10(response(w,zeta[1])), 'b', label = r\"$\\zeta$ = %.1f\" %(zeta[1]))\n",
    "plt.plot(np.log10(w), np.log10(response(w,zeta[2])), 'g', label = r\"$\\zeta$ = %.1f\" %(zeta[2]))\n",
    "plt.ylim([-7,1]); \n",
    "plt.xlim([-3,3]);\n",
    "plt.xlabel(r\"${log}_{10}(\\omega )$\", fontsize=10)\n",
    "plt.ylabel(r\"${log}_{10} \\ (\\frac{AR}{K_P} )$\", fontsize=10)\n",
    "plt.title(r\"$(\\frac{AR}{K_P}$)\"+ \" for 2nd Order System (\" + r\"$\\tau =$ %.2f)\"% (tau), fontsize=12)\n",
    "plt.legend();"
   ]
  },
  {
   "cell_type": "code",
   "execution_count": null,
   "metadata": {},
   "outputs": [],
   "source": [
    "def phicalc(w,z):\n",
    "    Kp = 1.0\n",
    "    a = 1- (tau**2)*(w**2)\n",
    "    b = 2*tau*z*w\n",
    "    sol1 = Kp/np.sqrt(a**2+b**2)\n",
    "    sol = np.arctan(b/a)\n",
    "    return sol\n",
    "plt.figure();\n",
    "w1 = np.linspace(0.001,1000,200000)\n",
    "plt.plot(np.log10(w1),phicalc(w1,zeta[0]), 'r', label = r\"$\\zeta$ = %.1f\" %(zeta[0]))\n",
    "plt.plot(np.log10(w1),phicalc(w1,zeta[1]), 'b', label = r\"$\\zeta$ = %.1f\" %(zeta[1]))\n",
    "plt.plot(np.log10(w1),phicalc(w1,zeta[2]), 'g', label = r\"$\\zeta$ = %.1f\" %(zeta[2]))\n",
    "#plt.ylim([-7,1]); \n",
    "#plt.xlim([-3,3]);\n",
    "plt.xlabel(r\"${log}_{10}(\\omega )$\", fontsize=12)\n",
    "plt.ylabel(r\"$\\phi = {tan}^{-1} \\ (\\frac{b}{a})$\", fontsize=12)\n",
    "plt.title(\"Phase Angle Plot\"+ \" for 2nd Order System (\" + r\"$\\tau =$ %.2f)\"% (tau), fontsize=12)\n",
    "plt.legend();"
   ]
  },
  {
   "cell_type": "code",
   "execution_count": null,
   "metadata": {},
   "outputs": [],
   "source": []
  }
 ],
 "metadata": {
  "kernelspec": {
   "display_name": "Python 3",
   "language": "python",
   "name": "python3"
  },
  "language_info": {
   "codemirror_mode": {
    "name": "ipython",
    "version": 3
   },
   "file_extension": ".py",
   "mimetype": "text/x-python",
   "name": "python",
   "nbconvert_exporter": "python",
   "pygments_lexer": "ipython3",
   "version": "3.8.5"
  }
 },
 "nbformat": 4,
 "nbformat_minor": 4
}
